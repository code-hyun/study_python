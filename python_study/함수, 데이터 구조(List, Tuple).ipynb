{
 "cells": [
  {
   "cell_type": "markdown",
   "id": "c31c2fe8",
   "metadata": {},
   "source": [
    "# 1. 함수(function)"
   ]
  },
  {
   "cell_type": "code",
   "execution_count": null,
   "id": "6d76aac7",
   "metadata": {},
   "outputs": [],
   "source": [
    "def fuction(parameter):\n",
    "    실행문1\n",
    "    실행문2\n",
    "    ...\n",
    "    return ouput"
   ]
  },
  {
   "cell_type": "code",
   "execution_count": 1,
   "id": "175bef70",
   "metadata": {},
   "outputs": [
    {
     "name": "stdout",
     "output_type": "stream",
     "text": [
      "5\n"
     ]
    }
   ],
   "source": [
    "def function(a, b):\n",
    "    result = a + b\n",
    "    return result\n",
    "a = 2\n",
    "b = 3\n",
    "print(function(a,b))"
   ]
  },
  {
   "cell_type": "markdown",
   "id": "13af91ea",
   "metadata": {},
   "source": [
    "# 2. 리스트 변수\n",
    "##### 1. 리스트 선언\n",
    "- 리스트 변수 = []\n",
    "- 리스트 변수 = list()\n",
    "- 리스트 변수 = [데이터1, 데이터2 ...]\n",
    "\n",
    "##### 2. 리스트 추가\n",
    "- 리스트변수.append(data)\n",
    "- fltmxmqustn.insert(idexNum, data)\n",
    "\n",
    "##### 3. 리스트 삭제\n",
    "- 리스트변수.remove(data)\n",
    "- del 리스트변수[인덱스번호]\n",
    "\n",
    "##### 4. 리스트 데이터 수정\n",
    "- 리스트변수[인덱스번호] = 수정할 데이터\n"
   ]
  },
  {
   "cell_type": "markdown",
   "id": "cbb7947b",
   "metadata": {},
   "source": [
    "# 데이터 구조(List, Tuple, Dictionary, Set)"
   ]
  },
  {
   "cell_type": "markdown",
   "id": "02abd715",
   "metadata": {},
   "source": [
    "### List\n",
    "animals = ['', '', '']\n",
    "\n",
    "### Tuple\n",
    "animals = ('', '', '')"
   ]
  },
  {
   "cell_type": "markdown",
   "id": "0e840baf",
   "metadata": {},
   "source": [
    "## 데이터 구조(Tuple)\n",
    "\n",
    "#### Tuple은 괄호를 이용해 선언할 수 있다.\n",
    "- tuple1 = (1, 2, 3, 4)\n",
    "\n",
    "#### Tuple은 삭제나 추가가 불가능 하다.\n",
    "    del tuple[1]\n",
    "    tuple[1] = 'c'\n",
    "\n",
    "#### Tuple끼리 더하거나 반복하는 것은 가능하다\n",
    "- tuple2 = (5, 6) <br>\n",
    "- print(tuple1 + tuple2) <br>\n",
    "- print(tuple * 3)"
   ]
  },
  {
   "cell_type": "markdown",
   "id": "f7e9dfb5",
   "metadata": {},
   "source": [
    "### tuple로 변수끼리 값을 편하게 바꿀 수 있다"
   ]
  },
  {
   "cell_type": "code",
   "execution_count": 5,
   "id": "0d505123",
   "metadata": {},
   "outputs": [
    {
     "name": "stdout",
     "output_type": "stream",
     "text": [
      "x=  3 y =  2\n"
     ]
    }
   ],
   "source": [
    "x = 2 \n",
    "y = 3\n",
    "\n",
    "(x, y) = (y, x)\n",
    "\n",
    "print('x= ',x,'y = ', y)"
   ]
  },
  {
   "cell_type": "markdown",
   "id": "9baff1d2",
   "metadata": {},
   "source": [
    "### tuple 함수에서 하나 이상의 값을 반환가능"
   ]
  },
  {
   "cell_type": "code",
   "execution_count": 10,
   "id": "3c527eca",
   "metadata": {},
   "outputs": [
    {
     "name": "stdout",
     "output_type": "stream",
     "text": [
      "0 3\n"
     ]
    }
   ],
   "source": [
    "def quot_and_rem(x,y):\n",
    "    quot = x // y\n",
    "    rem = x % y\n",
    "    return (quot, rem)\n",
    "(quot, rem) = quot_and_rem(3,10)\n",
    "print(quot, rem)"
   ]
  },
  {
   "cell_type": "markdown",
   "id": "93654a9c",
   "metadata": {},
   "source": [
    "## 데이터 구조 (dictionary의 선언)\n",
    "    dict1 = 3\n",
    "    print (dict1)\n",
    "#### dictionary는 key와 value로 이루어져 있고, 추가하는 방법\n",
    "    dict1 = {'name': 'jahyun'} \n",
    "    print (dict1)\n",
    "    dict1 = ('국어': 55, '수학': 80, '과학': [30, 70, 80, 60])\n",
    "    print (dict1)\n",
    "    dict1['영어'] = \"pass\"\n",
    "    print (dict1)\n",
    "#### 요소 삭제는 del을 활용\n",
    "    del dict1['수학']\n",
    "    print (dict1)\n",
    "\n",
    "#### key를 활용해 value를 출력\n",
    "    print (dict1 ['수학'])\n",
    "\n",
    "#### key만 출력\n",
    "    print (dict1.keys())\n",
    "\n",
    "#### value만 출력할땐 이렇게 합니다.\n",
    "    print (dict1.values())\n",
    "\n",
    "#### key와 value를 함께 출력합니다.\n",
    "    print (dict1.items ())"
   ]
  },
  {
   "cell_type": "markdown",
   "id": "6bc97a36",
   "metadata": {},
   "source": [
    "## 데이터 구조(set)\n",
    "\n",
    "#### Set 선언\n",
    "    \n",
    "    ppap = {'pen', 'apple', 'pineapple', 'pen'}\n",
    "    print(ppap)\n",
    "\n",
    "    'apple' in ppap\n",
    "    'applepen' in ppap\n",
    "    \n",
    "    pineapple = set('pineapple')\n",
    "    pineapple"
   ]
  },
  {
   "attachments": {
    "image.png": {
     "image/png": "[encoded data removed]"
    }
   },
   "cell_type": "markdown",
   "id": "b4cedb6a",
   "metadata": {},
   "source": [
    "#### A = set('golang')\n",
    "#### B = set('python')\n",
    "\n",
    "![image.png](attachment:image.png)\n",
    "\n"
   ]
  },
  {
   "cell_type": "code",
   "execution_count": null,
   "id": "4f9320b3",
   "metadata": {},
   "outputs": [],
   "source": []
  }
 ],
 "metadata": {
  "kernelspec": {
   "display_name": "Python 3 (ipykernel)",
   "language": "python",
   "name": "python3"
  },
  "language_info": {
   "codemirror_mode": {
    "name": "ipython",
    "version": 3
   },
   "file_extension": ".py",
   "mimetype": "text/x-python",
   "name": "python",
   "nbconvert_exporter": "python",
   "pygments_lexer": "ipython3",
   "version": "3.10.9"
  }
 },
 "nbformat": 4,
 "nbformat_minor": 5
}
